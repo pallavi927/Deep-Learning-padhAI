{
  "nbformat": 4,
  "nbformat_minor": 0,
  "metadata": {
    "colab": {
      "name": "Untitled0.ipynb",
      "version": "0.3.2",
      "provenance": [],
      "collapsed_sections": [],
      "include_colab_link": true
    },
    "kernelspec": {
      "name": "python3",
      "display_name": "Python 3"
    }
  },
  "cells": [
    {
      "cell_type": "markdown",
      "metadata": {
        "id": "view-in-github",
        "colab_type": "text"
      },
      "source": [
        "<a href=\"https://colab.research.google.com/github/pallavi927/PYTHON/blob/master/Untitled0.ipynb\" target=\"_parent\"><img src=\"https://colab.research.google.com/assets/colab-badge.svg\" alt=\"Open In Colab\"/></a>"
      ]
    },
    {
      "cell_type": "code",
      "metadata": {
        "id": "XX1Xhy9zMSmi",
        "colab_type": "code",
        "outputId": "4c98d6ff-f96f-4408-c549-6148358ab647",
        "colab": {
          "base_uri": "https://localhost:8080/",
          "height": 50
        }
      },
      "source": [
        "A=\"welcome to python\"\n",
        "B=\"introduction to python\"\n",
        "print(A)\n",
        "print(B)"
      ],
      "execution_count": 0,
      "outputs": [
        {
          "output_type": "stream",
          "text": [
            "welcome to python\n",
            "introduction to python\n"
          ],
          "name": "stdout"
        }
      ]
    },
    {
      "cell_type": "markdown",
      "metadata": {
        "id": "zfer068cVXwH",
        "colab_type": "text"
      },
      "source": [
        "**list and tuples**\n"
      ]
    },
    {
      "cell_type": "code",
      "metadata": {
        "id": "EhPeYzWqP_fA",
        "colab_type": "code",
        "outputId": "57b2fee7-e5c0-41c0-b1c3-da616b3122d2",
        "colab": {
          "base_uri": "https://localhost:8080/",
          "height": 84
        }
      },
      "source": [
        "lst=[1,2,3]\n",
        "tup=(3,7,9)\n",
        "print(lst)\n",
        "print(tup)\n",
        "lst[1]=5\n",
        "print(lst)\n",
        "tup1=tuple(lst)\n",
        "print(tup1)\n",
        "\n",
        "\n",
        "\n",
        "\n",
        "  "
      ],
      "execution_count": 0,
      "outputs": [
        {
          "output_type": "stream",
          "text": [
            "[1, 2, 3]\n",
            "(3, 7, 9)\n",
            "[1, 5, 3]\n",
            "(1, 5, 3)\n"
          ],
          "name": "stdout"
        }
      ]
    },
    {
      "cell_type": "markdown",
      "metadata": {
        "id": "ZEfh7wpyptpW",
        "colab_type": "text"
      },
      "source": [
        "**Dictonary**"
      ]
    },
    {
      "cell_type": "code",
      "metadata": {
        "id": "k5rkpC-_pee3",
        "colab_type": "code",
        "outputId": "5103d5db-8f70-49e6-fc0f-113da68d1765",
        "colab": {
          "base_uri": "https://localhost:8080/",
          "height": 50
        }
      },
      "source": [
        "dict={1:'python',2:'hadoop'}\n",
        "print(dict)\n",
        "dict[3]=\"ubunto\"\n",
        "print(dict)"
      ],
      "execution_count": 0,
      "outputs": [
        {
          "output_type": "stream",
          "text": [
            "{1: 'python', 2: 'hadoop'}\n",
            "{1: 'python', 2: 'hadoop', 3: 'ubunto'}\n"
          ],
          "name": "stdout"
        }
      ]
    },
    {
      "cell_type": "markdown",
      "metadata": {
        "id": "EXSk6AmyQAf-",
        "colab_type": "text"
      },
      "source": [
        "**function:\n",
        "factorial of number:**"
      ]
    },
    {
      "cell_type": "code",
      "metadata": {
        "id": "TboitOM6QBCf",
        "colab_type": "code",
        "outputId": "4b0ad84a-bab7-4a75-d434-f4b0cbefaf14",
        "colab": {
          "base_uri": "https://localhost:8080/",
          "height": 50
        }
      },
      "source": [
        "def factorial(n):\n",
        "  \n",
        "  fact=1\n",
        "  for i in range(1,n+1):\n",
        "    fact=fact*i\n",
        "  return(fact)\n",
        "\n",
        "num=input(\"enter the no.\")\n",
        "n1=int(num)\n",
        "res=factorial(n1)\n",
        "print(res)\n",
        "  \n",
        "  \n",
        "  \n",
        "   "
      ],
      "execution_count": 0,
      "outputs": [
        {
          "output_type": "stream",
          "text": [
            "enter the no.5\n",
            "120\n"
          ],
          "name": "stdout"
        }
      ]
    }
  ]
}